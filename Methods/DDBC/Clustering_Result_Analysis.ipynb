{
 "cells": [
  {
   "cell_type": "code",
   "execution_count": null,
   "id": "a92e5e6e",
   "metadata": {},
   "outputs": [],
   "source": [
    "DISEASE = \"BIPOLAR\"\n",
    "RESULT_FOLDER = f\"../output/{DISEASE}/leiden_results\""
   ]
  }
 ],
 "metadata": {
  "language_info": {
   "name": "python"
  }
 },
 "nbformat": 4,
 "nbformat_minor": 5
}
