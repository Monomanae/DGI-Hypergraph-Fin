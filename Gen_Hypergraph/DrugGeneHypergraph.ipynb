{
 "cells": [
  {
   "cell_type": "code",
   "execution_count": 1,
   "id": "db833004",
   "metadata": {},
   "outputs": [],
   "source": [
    "OUTPUT_FOLDER = \"./output/DGIDB_BIPOLAR/\"\n",
    "# Leave blank for the all drugs\n",
    "SNOMED_DISEASE_CODES = [13746004] #choose the disease we want to analyze by its SNOMED code\n"
   ]
  },
  {
   "cell_type": "code",
   "execution_count": 2,
   "id": "95b85f00",
   "metadata": {},
   "outputs": [],
   "source": [
    "import numpy as np\n",
    "import pandas as pd\n",
    "from scipy.sparse import dok_matrix, save_npz, diags\n",
    "import os\n",
    "import json\n",
    "DGIDB = pd.read_csv(\"../Data/DGIDB/DrugToGene.tsv\", sep=\"\\t\")\n",
    "HUMANNET = pd.read_csv(\"../Data/HumanNet/HumanNet-GSP.tsv\", sep=\"\\t\")\n",
    "DDDB = pd.read_csv(\"../Data/DDDB/DrugToDisease_DGIDB_naming.tsv\", sep=\"\\t\")\n",
    "os.makedirs(OUTPUT_FOLDER, exist_ok=True)"
   ]
  },
  {
   "cell_type": "code",
   "execution_count": 3,
   "id": "fe8ac462",
   "metadata": {},
   "outputs": [],
   "source": [
    "#Any data preview happens here\n",
    "# DGIDB.head(15)\n",
    "# HUMANNET.head(10) "
   ]
  },
  {
   "cell_type": "code",
   "execution_count": 4,
   "id": "0f427d0f",
   "metadata": {},
   "outputs": [
    {
     "name": "stdout",
     "output_type": "stream",
     "text": [
      "['CLONAZEPAM', 'BUPROPION HYDROCHLORIDE', 'SERTRALINE HYDROCHLORIDE', 'OLANZAPINE', 'ZIPRASIDONE', 'QUETIAPINE FUMARATE', 'CHLORPROMAZINE', 'CARBAMAZEPINE', 'ALLOPURINOL', 'PERPHENAZINE', 'VALPROIC ACID', 'CLOZAPINE', 'LITHIUM', 'RISPERIDONE', 'LAMOTRIGINE', 'ARIPIPRAZOLE LAUROXIL']\n"
     ]
    }
   ],
   "source": [
    "#extracting the drugs related to that specific disease\n",
    "specific_disease_drugs = DDDB.loc[DDDB['SNOMED'].isin(SNOMED_DISEASE_CODES), 'ndfrt_preferred_label'].dropna().unique().tolist()\n",
    "print(specific_disease_drugs)"
   ]
  },
  {
   "cell_type": "code",
   "execution_count": 5,
   "id": "5058c553",
   "metadata": {},
   "outputs": [
    {
     "name": "stdout",
     "output_type": "stream",
     "text": [
      "Mappings saved to ./output/DGIDB_BIPOLAR/gene_to_index.json and ./output/DGIDB_BIPOLAR/drug_to_index.json.\n"
     ]
    }
   ],
   "source": [
    "# Create mappings for vertices and hyperedges\n",
    "DGIDB['ncbi_gene_id'] = DGIDB['ncbi_gene_id'].astype(str)\n",
    "genes = DGIDB['ncbi_gene_id'].unique()\n",
    "drugs = DGIDB['drug_name'].unique()\n",
    "gene_to_index = {gene: i for i, gene in enumerate(genes)}\n",
    "drug_to_index = {drug: i for i, drug in enumerate(drugs)}\n",
    "# Define file paths\n",
    "gene_to_index_path = OUTPUT_FOLDER + \"gene_to_index.json\"\n",
    "drug_to_index_path = OUTPUT_FOLDER + \"drug_to_index.json\"\n",
    "\n",
    "# Save gene_to_index mapping\n",
    "with open(gene_to_index_path, 'w') as gene_file:\n",
    "    json.dump(gene_to_index, gene_file, indent=4)\n",
    "\n",
    "# Save drug_to_index mapping\n",
    "with open(drug_to_index_path, 'w') as drug_file:\n",
    "    json.dump(drug_to_index, drug_file, indent=4)\n",
    "\n",
    "print(f\"Mappings saved to {gene_to_index_path} and {drug_to_index_path}.\")"
   ]
  },
  {
   "cell_type": "code",
   "execution_count": 6,
   "id": "03d7c06e",
   "metadata": {},
   "outputs": [
    {
     "name": "stdout",
     "output_type": "stream",
     "text": [
      "Gene weight diagonal matrix saved as ./output/DGIDB_BIPOLAR/gene_weight_diag_matrix.npz'.\n",
      "Weighted incidence matrix saved as ./output/DGIDB_BIPOLAR/hypergraph_incidence_matrix_weighted.npz'.\n",
      "Binary incidence matrix saved as ./output/DGIDB_BIPOLAR/hypergraph_incidence_matrix_binary.npz'.\n",
      "Diagonal node degree matrix saved as ./output/DGIDB_BIPOLAR/inverse_diag_node_degree_matrix.npz'.\n",
      "Inverse diagonal node degree matrix saved as ./output/DGIDB_BIPOLAR/inverse_diag_node_degree_matrix.npz'.\n",
      "Inverse diagonal edge degree matrix saved as ./output/DGIDB_BIPOLAR/inverse_diag_edge_degree_matrix.npz'.\n",
      "Inverse diagonal edge degree weightless matrix saved as ./output/DGIDB_BIPOLAR/inverse_diag_edge_degree_weightless_matrix.npz'.\n"
     ]
    }
   ],
   "source": [
    "# Calculate gene degrees in HumanNet\n",
    "genes_in_humannet = pd.unique(HUMANNET[['Gene1', 'Gene2']].values.ravel())\n",
    "gene_to_degree = {gene: 0 for gene in genes_in_humannet}\n",
    "\n",
    "for _, row in HUMANNET.iterrows():\n",
    "    gene_to_degree[row[\"Gene1\"]] += 1\n",
    "    gene_to_degree[row[\"Gene2\"]] += 1\n",
    "\n",
    "gene_to_degree = {str(gene): degree for gene, degree in gene_to_degree.items()}\n",
    "\n",
    "# Construct gene weight diagonal matrix with 0.01 for genes not in HumanNet\n",
    "gene_weights = np.zeros(len(genes))\n",
    "index_to_gene = {i: gene for gene, i in gene_to_index.items()}\n",
    "for index in range(len(genes)):\n",
    "    gene = index_to_gene[index]\n",
    "    if gene in gene_to_degree:\n",
    "        gene_weights[index] = gene_to_degree[gene]\n",
    "    else:\n",
    "        gene_weights[index] = 0.01  # Assign a small weight to genes not in HumanNet\n",
    "gene_weight_diag_matrix = diags(gene_weights)\n",
    "save_npz(OUTPUT_FOLDER + \"gene_weight_diag_matrix.npz\", gene_weight_diag_matrix)\n",
    "print(f\"Gene weight diagonal matrix saved as {OUTPUT_FOLDER}gene_weight_diag_matrix.npz'.\")\n",
    "\n",
    "\n",
    "# Add degrees to DGIDB with fallback to 0.01 for missing genes\n",
    "DGIDB['degree'] = DGIDB['ncbi_gene_id'].map(gene_to_degree).fillna(0.01)\n",
    "\n",
    "\n",
    "\n",
    "# Initialize a sparse incidence matrix\n",
    "incidence_matrix = dok_matrix((len(genes), len(drugs)), dtype=float)\n",
    "binary_incidence_matrix = dok_matrix((len(genes), len(drugs)), dtype=int)\n",
    "\n",
    "# Initialize degree diagonal matrix\n",
    "hypernode_degree = np.zeros(len(genes))\n",
    "hyperedge_degree = np.zeros(len(drugs))\n",
    "hyperedge_degree_weightless = np.zeros(len(drugs))\n",
    "\n",
    "# Filter rows only if needed\n",
    "if specific_disease_drugs:\n",
    "    relevant_rows = DGIDB[DGIDB['drug_name'].isin(specific_disease_drugs)]\n",
    "else:\n",
    "    relevant_rows = DGIDB\n",
    "\n",
    "\n",
    "# Populate only the relevant entries\n",
    "i = 0\n",
    "repeated_rows = []\n",
    "for _, row in relevant_rows.iterrows():\n",
    "    gene_idx = gene_to_index[row['ncbi_gene_id']]\n",
    "    drug_idx = drug_to_index[row['drug_name']]\n",
    "    \n",
    "    if (incidence_matrix[gene_idx, drug_idx] != 0):\n",
    "        repeated_rows.append((row['ncbi_gene_id'], row['drug_name'],i))\n",
    "    else:\n",
    "        hypernode_degree[gene_idx] += 1\n",
    "        hyperedge_degree[drug_idx] += row['degree']\n",
    "        hyperedge_degree_weightless[drug_idx] += 1\n",
    "        incidence_matrix[gene_idx, drug_idx] = row['degree']\n",
    "        binary_incidence_matrix[gene_idx, drug_idx] = 1\n",
    "    i += 1\n",
    "\n",
    "\n",
    "# # Show nonzero rows sum\n",
    "# row_sums = np.sum(incidence_matrix.T, axis=1)\n",
    "# nonzero_row_sums = row_sums[row_sums != 0]\n",
    "# print(nonzero_row_sums)\n",
    "# print(hyperedge_degree[hyperedge_degree.nonzero()])\n",
    "\n",
    "# Build inverse diagonal degree matrix\n",
    "diag_node_degree_matrix = diags(hypernode_degree)\n",
    "inverse_hypernode_degrees = np.reciprocal(hypernode_degree, where=hypernode_degree!=0)\n",
    "inverse_diag_node_degree_matrix = diags(inverse_hypernode_degrees)\n",
    "\n",
    "inverse_hyperedge_degrees = np.reciprocal(hyperedge_degree, where=hyperedge_degree!=0)\n",
    "inverse_diag_edge_degree_matrix = diags(inverse_hyperedge_degrees)\n",
    "\n",
    "inverse_hyperedge_degrees_weightless = np.reciprocal(hyperedge_degree_weightless, where=hyperedge_degree_weightless!=0)\n",
    "inverse_diag_edge_degree_weightless_matrix = diags(inverse_hyperedge_degrees_weightless)\n",
    "\n",
    "# Convert the DOK matrix to CSR format\n",
    "incidence_matrix = incidence_matrix.tocsr()\n",
    "binary_incidence_matrix = binary_incidence_matrix.tocsr()\n",
    "\n",
    "\n",
    "# Save the matrix as .npz file\n",
    "save_npz(OUTPUT_FOLDER + \"hypergraph_incidence_matrix_weighted.npz\", incidence_matrix)\n",
    "save_npz(OUTPUT_FOLDER + \"hypergraph_incidence_matrix_binary.npz\", binary_incidence_matrix)\n",
    "save_npz(OUTPUT_FOLDER + \"diag_node_degree_matrix.npz\", diag_node_degree_matrix)\n",
    "save_npz(OUTPUT_FOLDER + \"inverse_diag_node_degree_matrix.npz\", inverse_diag_node_degree_matrix)\n",
    "save_npz(OUTPUT_FOLDER + \"inverse_diag_edge_degree_matrix.npz\", inverse_diag_edge_degree_matrix)\n",
    "save_npz(OUTPUT_FOLDER + \"inverse_diag_edge_degree_weightless_matrix.npz\", inverse_diag_edge_degree_weightless_matrix)\n",
    "# Print confirmation\n",
    "print(f\"Weighted incidence matrix saved as {OUTPUT_FOLDER}hypergraph_incidence_matrix_weighted.npz'.\")\n",
    "print(f\"Binary incidence matrix saved as {OUTPUT_FOLDER}hypergraph_incidence_matrix_binary.npz'.\")\n",
    "print(f\"Diagonal node degree matrix saved as {OUTPUT_FOLDER}inverse_diag_node_degree_matrix.npz'.\")\n",
    "print(f\"Inverse diagonal node degree matrix saved as {OUTPUT_FOLDER}inverse_diag_node_degree_matrix.npz'.\")\n",
    "print(f\"Inverse diagonal edge degree matrix saved as {OUTPUT_FOLDER}inverse_diag_edge_degree_matrix.npz'.\")\n",
    "print(f\"Inverse diagonal edge degree weightless matrix saved as {OUTPUT_FOLDER}inverse_diag_edge_degree_weightless_matrix.npz'.\")\n"
   ]
  },
  {
   "cell_type": "code",
   "execution_count": 7,
   "id": "75992086",
   "metadata": {},
   "outputs": [
    {
     "name": "stdout",
     "output_type": "stream",
     "text": [
      "3055 out of 4774 genes have non-default weights (aka are found in HumanNet).\n"
     ]
    }
   ],
   "source": [
    "print(np.sum(gene_weights != 0.01), \"out of\", len(gene_weights), \"genes have non-default weights (aka are found in HumanNet).\")"
   ]
  },
  {
   "cell_type": "code",
   "execution_count": 8,
   "id": "6e7e8273",
   "metadata": {},
   "outputs": [
    {
     "name": "stdout",
     "output_type": "stream",
     "text": [
      "Zero row indices: [   2    4    5 ... 4771 4772 4773]\n",
      "Number of zero rows: 4415\n"
     ]
    }
   ],
   "source": [
    "row_sums = np.sum(np.abs(binary_incidence_matrix), axis=1)\n",
    "\n",
    "# Indices of zero rows\n",
    "zero_row_indices = np.where(row_sums == 0)[0]\n",
    "\n",
    "# Count\n",
    "num_zero_rows = len(zero_row_indices)\n",
    "\n",
    "print(\"Zero row indices:\", zero_row_indices)\n",
    "print(\"Number of zero rows:\", num_zero_rows)"
   ]
  },
  {
   "cell_type": "code",
   "execution_count": 9,
   "id": "873f690b",
   "metadata": {},
   "outputs": [
    {
     "name": "stdout",
     "output_type": "stream",
     "text": [
      "Number of non-empty drugs: 16\n",
      "Indices of non-empty drugs: [  73  190  371  395  452  559  717  843 1030 1410 1438 1458 1733 2165\n",
      " 2240 2915]\n"
     ]
    }
   ],
   "source": [
    "# Count non-zero entries per column\n",
    "column_nonzero_entries_count = np.array((binary_incidence_matrix).sum(axis=0)).flatten()\n",
    "\n",
    "# Get indices of non-empty columns\n",
    "non_empty_drug_indices = np.where(column_nonzero_entries_count > 0)[0]\n",
    "\n",
    "print(f\"Number of non-empty drugs: {len(non_empty_drug_indices)}\")\n",
    "print(\"Indices of non-empty drugs:\", non_empty_drug_indices)\n"
   ]
  },
  {
   "cell_type": "code",
   "execution_count": 10,
   "id": "3d38b67a",
   "metadata": {},
   "outputs": [
    {
     "name": "stdout",
     "output_type": "stream",
     "text": [
      "Drug: CLONAZEPAM, Index: 2915\n",
      "Drug: BUPROPION HYDROCHLORIDE, Index: 73\n",
      "Drug: SERTRALINE HYDROCHLORIDE, Index: 1410\n",
      "Drug: OLANZAPINE, Index: 717\n",
      "Drug: ZIPRASIDONE, Index: 1733\n",
      "Drug: QUETIAPINE FUMARATE, Index: 452\n",
      "Drug: CHLORPROMAZINE, Index: 1030\n",
      "Drug: CARBAMAZEPINE, Index: 2165\n",
      "Drug: ALLOPURINOL, Index: 559\n",
      "Drug: PERPHENAZINE, Index: 843\n",
      "Drug: VALPROIC ACID, Index: 1458\n",
      "Drug: CLOZAPINE, Index: 371\n",
      "Drug: LITHIUM, Index: 395\n",
      "Drug: RISPERIDONE, Index: 190\n",
      "Drug: LAMOTRIGINE, Index: 1438\n",
      "Drug: ARIPIPRAZOLE LAUROXIL, Index: 2240\n"
     ]
    }
   ],
   "source": [
    "for drug in specific_disease_drugs:\n",
    "    if drug in drug_to_index:\n",
    "        idx = drug_to_index[drug]\n",
    "        print(f\"Drug: {drug}, Index: {idx}\")\n",
    "    else:\n",
    "        print(f\"Drug: {drug} not found in drug_to_index.\")\n"
   ]
  },
  {
   "cell_type": "code",
   "execution_count": 11,
   "id": "24b1c89d",
   "metadata": {},
   "outputs": [],
   "source": [
    "# # Compute gene-gene adjacency matrix by projecting via shared drugs\n",
    "# adj_matrix = adj_matrix = binary_csr_matrix @ binary_csr_matrix.T  # Matrix multiplication: shared drugs\n",
    "# adj_matrix.setdiag(0)\n",
    "# adj_matrix.eliminate_zeros()\n",
    "\n",
    "# # --- Step 2: Extract Edgelist from Upper Triangle Only ---\n",
    "# # Use sparse coo_matrix to iterate efficiently\n",
    "# from scipy.sparse import triu\n",
    "\n",
    "# adj_matrix_upper = triu(adj_matrix, k=1)  # upper triangle, no diag\n",
    "# adj_coo = adj_matrix_upper.tocoo()\n",
    "\n",
    "# # Optional: if you have gene names\n",
    "# # gene_names = ['TP53', 'EGFR', 'BRCA1', ...]\n",
    "# # Otherwise use indices as names\n",
    "\n",
    "# edges = []\n",
    "# for i, j, v in zip(adj_coo.row, adj_coo.col, adj_coo.data):\n",
    "#     edges.append((i, j, v))  # replace i/j with gene_names[i] if available\n",
    "\n",
    "# # Convert to DataFrame and save\n",
    "# edge_df = pd.DataFrame(edges, columns=[\"Gene1\", \"Gene2\", \"Weight\"])\n",
    "\n",
    "# # If you have gene names, map them:\n",
    "# # edge_df[\"Gene1\"] = edge_df[\"Gene1\"].map(lambda i: gene_names[i])\n",
    "# # edge_df[\"Gene2\"] = edge_df[\"Gene2\"].map(lambda i: gene_names[i])\n",
    "\n",
    "# edge_df.to_csv(\"gene_gene_edgelist.csv\", index=False)"
   ]
  },
  {
   "cell_type": "code",
   "execution_count": 12,
   "id": "6f28975b",
   "metadata": {},
   "outputs": [],
   "source": [
    "# import pandas as pd\n",
    "\n",
    "# if 'NCBI_INFO' not in globals():\n",
    "#     print(\"Reading gene2refseq.gz...\")\n",
    "#     NCBI_INFO = pd.read_csv(\"../Data/ncbi/gene2refseq.gz\", sep='\\t', compression='gzip')\n",
    "# else:\n",
    "#     print(\"NCBI_INFO already loaded.\")"
   ]
  },
  {
   "cell_type": "code",
   "execution_count": 13,
   "id": "2bf3cdc4",
   "metadata": {},
   "outputs": [],
   "source": [
    "# index_to_ncbi = {idx: gene for gene, idx in gene_to_index.items()}\n",
    "# human_gene2refseq = NCBI_INFO[NCBI_INFO['#tax_id'] == 9606]\n",
    "# id_to_gene_claim = pd.Series(human_gene2refseq.Symbol.values, index=human_gene2refseq.GeneID).to_dict()\n",
    "\n",
    "# # Your existing function to get common gene name from ncbi gene id\n",
    "# def get_gene_claim_name(ncbi_gene_id):\n",
    "#     try:\n",
    "#         ncbi_gene_id = int(ncbi_gene_id)\n",
    "#         result = id_to_gene_claim.get(ncbi_gene_id, None)\n",
    "#         return result if result else \"Gene name not found\"\n",
    "#     except:\n",
    "#         return \"Gene name not found\""
   ]
  },
  {
   "cell_type": "code",
   "execution_count": 14,
   "id": "473bec60",
   "metadata": {},
   "outputs": [],
   "source": [
    "# # Step 1: Map index → NCBI gene ID\n",
    "# edge_df['Gene1_ncbi'] = edge_df['Gene1'].map(index_to_ncbi)\n",
    "# edge_df['Gene2_ncbi'] = edge_df['Gene2'].map(index_to_ncbi)\n",
    "\n",
    "# # Step 2: Map NCBI gene ID → gene symbol\n",
    "# edge_df['Gene1'] = edge_df['Gene1_ncbi'].apply(get_gene_claim_name)\n",
    "# edge_df['Gene2'] = edge_df['Gene2_ncbi'].apply(get_gene_claim_name)\n",
    "\n",
    "# # Step 3: Drop temp NCBI ID columns\n",
    "# edge_df = edge_df.drop(columns=['Gene1_ncbi', 'Gene2_ncbi'])\n",
    "\n",
    "# # Optional: Save to CSV\n",
    "# edge_df.to_csv('gene_gene_edgelist_named.csv', index=False)\n"
   ]
  }
 ],
 "metadata": {
  "kernelspec": {
   "display_name": ".venv",
   "language": "python",
   "name": "python3"
  },
  "language_info": {
   "codemirror_mode": {
    "name": "ipython",
    "version": 3
   },
   "file_extension": ".py",
   "mimetype": "text/x-python",
   "name": "python",
   "nbconvert_exporter": "python",
   "pygments_lexer": "ipython3",
   "version": "3.10.0"
  }
 },
 "nbformat": 4,
 "nbformat_minor": 5
}
